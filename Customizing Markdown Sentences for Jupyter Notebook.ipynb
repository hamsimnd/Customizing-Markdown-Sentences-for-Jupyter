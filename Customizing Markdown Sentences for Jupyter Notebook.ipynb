{
 "cells": [
  {
   "cell_type": "markdown",
   "id": "d6f55b33",
   "metadata": {},
   "source": [
    "# Customizing Markdown Sentences for Jupyter Notebook"
   ]
  },
  {
   "cell_type": "markdown",
   "id": "64019535",
   "metadata": {},
   "source": [
    "## Headings:"
   ]
  },
  {
   "cell_type": "markdown",
   "id": "2c226c34",
   "metadata": {},
   "source": [
    "# title\n",
    "## major headings\n",
    "### subheadings\n",
    "#### 4th level subheadings"
   ]
  },
  {
   "cell_type": "markdown",
   "id": "e141bf4a",
   "metadata": {},
   "source": [
    "## Emphasis:"
   ]
  },
  {
   "cell_type": "markdown",
   "id": "2c4fa403",
   "metadata": {},
   "source": [
    "Bold: __string__ or **string** \n",
    "Italic: _string_ or *string*"
   ]
  },
  {
   "cell_type": "markdown",
   "id": "db6502b3",
   "metadata": {},
   "source": [
    "## Mathematical symbols: "
   ]
  },
  {
   "cell_type": "markdown",
   "id": "3b185178",
   "metadata": {},
   "source": [
    "$ mathematical symbols $"
   ]
  },
  {
   "cell_type": "markdown",
   "id": "6c63f3af",
   "metadata": {},
   "source": [
    "$$\n",
    "\\frac{arg 1}{arg 2} \\\\\n",
    "x^2\\\\\n",
    "e^{i\\pi}\\\\\n",
    "A_i\\\\\n",
    "B_{ij}\\\\\n",
    "\\sqrt[n]{arg}   \n",
    "$$"
   ]
  },
  {
   "cell_type": "markdown",
   "id": "45708084",
   "metadata": {},
   "source": [
    "Given : $\\pi = 3.14$ , $\\alpha = \\frac{3\\pi}{4}\\, rad$\n",
    "$$\n",
    "\\omega = 2\\pi f \\\\\n",
    "f = \\frac{c}{\\lambda}\\\\\n",
    "\\lambda_0=\\theta^2+\\delta\\\\\n",
    "\\Delta\\lambda = \\frac{1}{\\lambda^2}\n",
    "$$"
   ]
  },
  {
   "cell_type": "markdown",
   "id": "d19859b5",
   "metadata": {},
   "source": [
    "|Uppercase| LaTeX |Lowercase| LaTeX | \n",
    "|---------|-------|---------|-------|\n",
    "|$\\Delta$ |\\\\Delta|$\\delta$ |\\\\delta|\n",
    "|$\\Omega$ |\\\\Omega|$\\omega$ |\\\\omega|"
   ]
  },
  {
   "cell_type": "markdown",
   "id": "082275d8",
   "metadata": {},
   "source": [
    "$\\underbrace{}$"
   ]
  },
  {
   "cell_type": "markdown",
   "id": "909fdd47",
   "metadata": {},
   "source": [
    "$$\n",
    "\\underbrace{\\ln \\left( \\frac{5}{6} \\right)}_{\\simeq -0.1823}\n",
    "< \\overbrace{\\exp (2)}^{\\simeq 7.3890}\n",
    "$$"
   ]
  },
  {
   "cell_type": "markdown",
   "id": "2f16a9df",
   "metadata": {},
   "source": [
    "$$\n",
    "sign(x) = \\left\\{\n",
    "    \\begin{array}\\\\\n",
    "        1 & \\mbox{if } \\ x \\in \\mathbf{N}^* \\\\\n",
    "        0 & \\mbox{if } \\ x = 0 \\\\\n",
    "        -1 & \\mbox{else.}\n",
    "    \\end{array}\n",
    "\\right.\n",
    "$$\n",
    "\n",
    "\\\\\n",
    "\n",
    "$$\n",
    " \\left.\n",
    "    \\begin{array} \\\\\n",
    "        \\alpha^2 = \\sqrt5 \\\\\n",
    "        \\alpha \\geq 0 \n",
    "    \\end{array}\n",
    "\\right \\} \\alpha = 5 \n",
    "$$"
   ]
  },
  {
   "cell_type": "markdown",
   "id": "5375b064",
   "metadata": {},
   "source": [
    "### Derivate"
   ]
  },
  {
   "cell_type": "markdown",
   "id": "e08faac6",
   "metadata": {},
   "source": [
    "First order derivative : $$f'(x)$$ \n",
    "K-th order derivative  : $$f^{(k)}(x)$$\n",
    "Partial firt order derivative   : $$\\frac{\\partial f}{\\partial x}$$\n",
    "Partial k-th order derivative   : $$\\frac{\\partial^{k} f}{\\partial x^k}$$"
   ]
  },
  {
   "cell_type": "markdown",
   "id": "86b96d34",
   "metadata": {},
   "source": [
    "Limit $\\lim$"
   ]
  },
  {
   "cell_type": "markdown",
   "id": "ad19dc2d",
   "metadata": {},
   "source": [
    "Limit at plus infinity  : $$\\lim_{x \\to +\\infty} f(x)$$ \n",
    "Limit at minus infinity : $$\\lim_{x \\to -\\infty} f(x)$$ \n",
    "Limit at $\\alpha$  : $$\\lim_{x \\to \\alpha} f(x)$$\n",
    "\n",
    "Max : $$\\max_{x \\in [a,b]}f(x)$$    \n",
    "Min : $$\\min_{x \\in [\\alpha,\\beta]}f(x)$$   \n",
    "Sup : $$\\sup_{x \\in \\mathbb{R}}f(x)$$   \n",
    "Inf : $$\\inf_{x > s}f(x)$$"
   ]
  },
  {
   "cell_type": "markdown",
   "id": "e74f8895",
   "metadata": {},
   "source": [
    "Sum $\\sum$"
   ]
  },
  {
   "cell_type": "markdown",
   "id": "33086bc2",
   "metadata": {},
   "source": [
    "Sum from 0 to +inf:\n",
    "\n",
    "\n",
    "$$\\sum_{j=0}^{+\\infty} A_{j}$$\n",
    "\n",
    "\n",
    "Double sum:\n",
    "$$\\sum^k_{i=1}\\sum^{l+1}_{j=1}\\,A_i A_j$$   \n",
    "\n",
    "\n",
    "Taylor expansion of $e^x$:\n",
    "$$ e^x  = \\sum_{k=0}^{n}\\, \\frac{x^k}{k!} + o(x^n) $$"
   ]
  },
  {
   "cell_type": "markdown",
   "id": "238b039c",
   "metadata": {},
   "source": [
    "Product $\\prod$"
   ]
  },
  {
   "cell_type": "markdown",
   "id": "a1b0e517",
   "metadata": {},
   "source": [
    "Product:\n",
    "\n",
    "$$\\prod_{j=1}^k A_{\\alpha_j}$$\n",
    "\n",
    "Double product:\n",
    "$$\\prod^k_{i=1}\\prod^l_{j=1}\\,A_i A_j$$"
   ]
  },
  {
   "cell_type": "markdown",
   "id": "1797af1a",
   "metadata": {},
   "source": [
    "Integral : $\\int$"
   ]
  },
  {
   "cell_type": "markdown",
   "id": "3263a3fa",
   "metadata": {},
   "source": [
    "Simple integral:\n",
    "\n",
    "$$\\int_{a}^b f(x)dx$$\n",
    "\n",
    "\n",
    "Double integral:\n",
    "$$\\int_{a}^b\\int_{c}^d f(x,y)\\,dxdy$$   \n",
    "\n",
    "Triple integral:\n",
    "$$\\iiint$$  \n",
    "\n",
    "Quadruple integral:\n",
    "$$\\iiiint$$ \n",
    "\n",
    "Multiple integral :\n",
    "\n",
    "$$\\idotsint$$\n",
    "\n",
    "\n",
    "Contour integral:\n",
    "$$\\oint$$"
   ]
  },
  {
   "cell_type": "markdown",
   "id": "e97d6170",
   "metadata": {},
   "source": [
    "Plain:\n",
    "\n",
    "\\begin{matrix}\n",
    "1 & 2 & 3\\\\\n",
    "a & b & c\n",
    "\\end{matrix}\n",
    "\n",
    "Round brackets:\n",
    "\\begin{pmatrix}\n",
    "1 & 2 & 3\\\\\n",
    "a & b & c\n",
    "\\end{pmatrix}\n",
    "\n",
    "Curly brackets:\n",
    "\\begin{Bmatrix}\n",
    "1 & 2 & 3\\\\\n",
    "a & b & c\n",
    "\\end{Bmatrix}   \n",
    "\n",
    "Pipes:\n",
    "\\begin{vmatrix}\n",
    "1 & 2 & 3\\\\\n",
    "a & b & c\n",
    "\\end{vmatrix}\n",
    "\n",
    "Double pipes\n",
    "\\begin{Vmatrix}\n",
    "1 & 2 & 3\\\\\n",
    "a & b & c\n",
    "\\end{Vmatrix}"
   ]
  },
  {
   "cell_type": "markdown",
   "id": "4bf85912",
   "metadata": {},
   "source": [
    "## Line breaks: "
   ]
  },
  {
   "cell_type": "markdown",
   "id": "d2492956",
   "metadata": {},
   "source": [
    "aCb"
   ]
  },
  {
   "cell_type": "markdown",
   "id": "e6cde610",
   "metadata": {},
   "source": [
    "## Colors:"
   ]
  },
  {
   "cell_type": "markdown",
   "id": "d0dc6498",
   "metadata": {},
   "source": [
    "<font color=blue|red|green|pink|yellow>Text</font>"
   ]
  },
  {
   "cell_type": "markdown",
   "id": "2257af5c",
   "metadata": {},
   "source": [
    "## Indented quoting:"
   ]
  },
  {
   "cell_type": "markdown",
   "id": "dce03049",
   "metadata": {},
   "source": [
    "> weserewr\n",
    "> dfdsfsd"
   ]
  },
  {
   "cell_type": "markdown",
   "id": "43cd962d",
   "metadata": {},
   "source": [
    "## Bullets: "
   ]
  },
  {
   "cell_type": "markdown",
   "id": "19eaac76",
   "metadata": {},
   "source": [
    "- dsfdsf\n",
    "- dsfdsffsdf"
   ]
  },
  {
   "cell_type": "markdown",
   "id": "9a18c03f",
   "metadata": {},
   "source": [
    "## Numbered lists: "
   ]
  },
  {
   "cell_type": "markdown",
   "id": "d4376f7b",
   "metadata": {},
   "source": [
    " 1.\n",
    " 2."
   ]
  },
  {
   "cell_type": "markdown",
   "id": "9954bc02",
   "metadata": {},
   "source": [
    "## Graphics:"
   ]
  },
  {
   "cell_type": "markdown",
   "id": "72f2a0b3",
   "metadata": {},
   "source": [
    "<img src=\"url.gif\" alt=\"Alt text that describes the graphic\" title=\"Title text\" />"
   ]
  },
  {
   "cell_type": "markdown",
   "id": "3ddaa7c0",
   "metadata": {},
   "source": [
    "## Geometric shapes: "
   ]
  },
  {
   "cell_type": "markdown",
   "id": "ce841833",
   "metadata": {},
   "source": [
    "&#reference_number;"
   ]
  },
  {
   "cell_type": "markdown",
   "id": "e5c6ea8b",
   "metadata": {},
   "source": [
    "## Horizontal lines: "
   ]
  },
  {
   "cell_type": "markdown",
   "id": "0e42a444",
   "metadata": {},
   "source": [
    "***"
   ]
  },
  {
   "cell_type": "markdown",
   "id": "d0d2b476",
   "metadata": {},
   "source": [
    "## Internal links: "
   ]
  },
  {
   "cell_type": "code",
   "execution_count": null,
   "id": "8301c766",
   "metadata": {},
   "outputs": [],
   "source": [
    "[heading title](#heading-title)"
   ]
  },
  {
   "cell_type": "code",
   "execution_count": null,
   "id": "5aa4193e",
   "metadata": {},
   "outputs": [],
   "source": [
    "<a id=\"heading_ID\"></a>"
   ]
  },
  {
   "cell_type": "code",
   "execution_count": null,
   "id": "7fb36b59",
   "metadata": {},
   "outputs": [],
   "source": [
    "[heading title](#heading_ID)"
   ]
  },
  {
   "cell_type": "markdown",
   "id": "1ac9f67f",
   "metadata": {},
   "source": [
    "## External links:"
   ]
  },
  {
   "cell_type": "code",
   "execution_count": null,
   "id": "7b1ee413",
   "metadata": {},
   "outputs": [],
   "source": [
    "[link text](http://url)"
   ]
  },
  {
   "cell_type": "markdown",
   "id": "29377186",
   "metadata": {},
   "source": [
    "## Adding Table\n",
    "\n",
    "|Name |Quantity|\n",
    "|-----|--------|\n",
    "|Apple|3       |\n",
    "|Egg  |12      |"
   ]
  },
  {
   "cell_type": "markdown",
   "id": "e914a602",
   "metadata": {},
   "source": [
    "## Formatting content within your table"
   ]
  },
  {
   "cell_type": "markdown",
   "id": "c40b7314",
   "metadata": {},
   "source": [
    "| Command | Description |\n",
    "| --- | --- |\n",
    "| `git status` | List all *new or modified* files |\n",
    "| `git diff` | Show file differences that **haven't been** staged |"
   ]
  },
  {
   "cell_type": "markdown",
   "id": "bd358228",
   "metadata": {},
   "source": [
    "| Left-aligned | Center-aligned | Right-aligned |\n",
    "| :---         |     :---:      |          ---: |\n",
    "| git status   | git status     | git status    |\n",
    "| git diff     | git diff       | git diff      |"
   ]
  },
  {
   "cell_type": "markdown",
   "id": "c0e364e2",
   "metadata": {},
   "source": [
    "| Name     | Character |\n",
    "| ---      | ---       |\n",
    "| Backtick | `         |\n",
    "| Pipe     | \\|        |"
   ]
  },
  {
   "cell_type": "markdown",
   "id": "4e447e08",
   "metadata": {},
   "source": [
    "|   |   |   |   |   |\n",
    "|---|---|---|---|---|\n",
    "|   |   |   |   |   |\n",
    "|   |   |   |   |   |\n",
    "|   |   |   |   |   |"
   ]
  },
  {
   "cell_type": "markdown",
   "id": "8cf64ac8",
   "metadata": {},
   "source": [
    "\n",
    "### Costs (TL/ton)\n",
    "|-|İstanbul |Ankara|İzmir |Kocaeli|Adana |Antalya|Eskişehir|\n",
    "|-|---------|------|------|-------|------|-------|---------|\n",
    "|Giresun|126      |154  | 165 | 152 | 87 |210  |  196|  | \n",
    "|Ordu  |140     |101  | 207 | 87 | 156 |135 |  139|  | \n",
    "|Trabzon  |202     |183  | 104 | 111 | 100 |196  |  141|  | \n",
    "|İstanbul|0    |180  | |144 |  | |  |  | \n",
    "|Ankara  |112     |0  | 132 | 157 | 188 |217 |  |  | \n",
    "|İzmir  |      |  | 0 |  |  |  |  |  | \n",
    "|Kocaeli|      |  |  | 0 |  |  |  |  | \n",
    "|Adana  |     |  |  |  | 0 |  |  |  | \n",
    "|Antalya  |     |  |  |  |  |  0|  | | \n",
    "|Eskişehir  |224      |134  | 123 | 89 | 101 |228  |  0|  | "
   ]
  },
  {
   "cell_type": "markdown",
   "id": "4373d77c",
   "metadata": {},
   "source": [
    "additional link: https://www.tablesgenerator.com/markdown_tables"
   ]
  },
  {
   "cell_type": "markdown",
   "id": "31db35b8",
   "metadata": {},
   "source": [
    "# Table of contents\n",
    "1. [Introduction](#introduction)\n",
    "2. [Some paragraph](#paragraph1)\n",
    "    1. [Sub paragraph](#subparagraph1)\n",
    "3. [Another paragraph](#paragraph2)\n",
    "\n",
    "## This is the introduction <a name=\"introduction\"></a>\n",
    "Some introduction text, formatted in heading 2 style\n",
    "\n",
    "## Some paragraph <a name=\"paragraph1\"></a>\n",
    "The first paragraph text\n",
    "\n",
    "### Sub paragraph <a name=\"subparagraph1\"></a>\n",
    "This is a sub paragraph, formatted in heading 3 style\n",
    "\n",
    "## Another paragraph <a name=\"paragraph2\"></a>\n",
    "The second paragraph text"
   ]
  },
  {
   "cell_type": "code",
   "execution_count": null,
   "id": "d9d49297",
   "metadata": {},
   "outputs": [],
   "source": [
    "**<font color=red>*Question-2*</font>** <br>\n",
    "\n",
    "**<font color=red>*Answer-2*</font>** <br>"
   ]
  }
 ],
 "metadata": {
  "kernelspec": {
   "display_name": "Python 3 (ipykernel)",
   "language": "python",
   "name": "python3"
  },
  "language_info": {
   "codemirror_mode": {
    "name": "ipython",
    "version": 3
   },
   "file_extension": ".py",
   "mimetype": "text/x-python",
   "name": "python",
   "nbconvert_exporter": "python",
   "pygments_lexer": "ipython3",
   "version": "3.9.7"
  }
 },
 "nbformat": 4,
 "nbformat_minor": 5
}
